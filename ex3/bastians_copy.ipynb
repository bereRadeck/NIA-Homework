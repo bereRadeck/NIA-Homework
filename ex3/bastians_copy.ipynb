{
 "cells": [
  {
   "cell_type": "code",
   "execution_count": 4,
   "metadata": {},
   "outputs": [
    {
     "ename": "ImportError",
     "evalue": "No module named 'matplotlip'",
     "output_type": "error",
     "traceback": [
      "\u001b[0;31m---------------------------------------------------------------------------\u001b[0m",
      "\u001b[0;31mImportError\u001b[0m                               Traceback (most recent call last)",
      "\u001b[0;32m<ipython-input-4-0ec046a1072a>\u001b[0m in \u001b[0;36m<module>\u001b[0;34m()\u001b[0m\n\u001b[1;32m      6\u001b[0m \u001b[0;32mfrom\u001b[0m \u001b[0maco\u001b[0m \u001b[0;32mimport\u001b[0m \u001b[0mACO\u001b[0m\u001b[0;34m\u001b[0m\u001b[0m\n\u001b[1;32m      7\u001b[0m \u001b[0;32mimport\u001b[0m \u001b[0mnumpy\u001b[0m \u001b[0;32mas\u001b[0m \u001b[0mnp\u001b[0m\u001b[0;34m\u001b[0m\u001b[0m\n\u001b[0;32m----> 8\u001b[0;31m \u001b[0;32mimport\u001b[0m \u001b[0mmatplotlip\u001b[0m \u001b[0;32mas\u001b[0m \u001b[0mplt\u001b[0m\u001b[0;34m\u001b[0m\u001b[0m\n\u001b[0m",
      "\u001b[0;31mImportError\u001b[0m: No module named 'matplotlip'"
     ]
    }
   ],
   "source": [
    "from Initializer import Initializer\n",
    "from Taskinitializer import Taskinitializer\n",
    "from SolutionGenerator import SolutionGenerator\n",
    "from Evaporator import Evaporator\n",
    "from Intensificator import Intensificator\n",
    "from aco import ACO\n",
    "import numpy as np\n",
    "import matplotlip as plt"
   ]
  },
  {
   "cell_type": "markdown",
   "metadata": {},
   "source": [
    "Implemention 1\n",
    "distance heuristic with fixed parameters α = 1, β = 1"
   ]
  },
  {
   "cell_type": "code",
   "execution_count": 2,
   "metadata": {},
   "outputs": [],
   "source": [
    "\n",
    "taskinitializer = Taskinitializer(1)\n",
    "initializer = Initializer()\n",
    "solutiongenerator = SolutionGenerator(alpha=1,beta=1,num_of_ants=20,task = taskinitializer)\n",
    "evaporator = Evaporator(rho=0.5)\n",
    "intensificator = Intensificator(delta=1)"
   ]
  },
  {
   "cell_type": "markdown",
   "metadata": {},
   "source": [
    "Comparison of different beta values"
   ]
  },
  {
   "cell_type": "code",
   "execution_count": 3,
   "metadata": {},
   "outputs": [
    {
     "name": "stdout",
     "output_type": "stream",
     "text": [
      "Interation:  0  best solution:  26553\n",
      "Interation:  1  best solution:  26173\n",
      "Interation:  2  best solution:  25849\n",
      "Interation:  3  best solution:  27193\n",
      "Interation:  4  best solution:  26403\n"
     ]
    },
    {
     "ename": "NameError",
     "evalue": "name 'plt' is not defined",
     "output_type": "error",
     "traceback": [
      "\u001b[0;31m---------------------------------------------------------------------------\u001b[0m",
      "\u001b[0;31mNameError\u001b[0m                                 Traceback (most recent call last)",
      "\u001b[0;32m<ipython-input-3-834df52f04d6>\u001b[0m in \u001b[0;36m<module>\u001b[0;34m()\u001b[0m\n\u001b[1;32m      9\u001b[0m                 printing=True)\n\u001b[1;32m     10\u001b[0m         \u001b[0mbest_solutions\u001b[0m\u001b[0;34m,\u001b[0m \u001b[0mscores\u001b[0m\u001b[0;34m,\u001b[0m \u001b[0msolutions\u001b[0m\u001b[0;34m=\u001b[0m\u001b[0mantco\u001b[0m\u001b[0;34m.\u001b[0m\u001b[0mrun\u001b[0m\u001b[0;34m(\u001b[0m\u001b[0;34m)\u001b[0m\u001b[0;34m\u001b[0m\u001b[0m\n\u001b[0;32m---> 11\u001b[0;31m         \u001b[0mplt\u001b[0m\u001b[0;34m.\u001b[0m\u001b[0mtitle\u001b[0m\u001b[0;34m(\u001b[0m\u001b[0;34m'Task '\u001b[0m \u001b[0;34m+\u001b[0m\u001b[0mstr\u001b[0m\u001b[0;34m(\u001b[0m\u001b[0mx\u001b[0m\u001b[0;34m)\u001b[0m\u001b[0;34m+\u001b[0m \u001b[0;34m', variable changed: beta'\u001b[0m\u001b[0;34m)\u001b[0m\u001b[0;34m\u001b[0m\u001b[0m\n\u001b[0m\u001b[1;32m     12\u001b[0m         \u001b[0mplt\u001b[0m\u001b[0;34m.\u001b[0m\u001b[0mxlabel\u001b[0m\u001b[0;34m(\u001b[0m\u001b[0;34m'Iterations'\u001b[0m\u001b[0;34m)\u001b[0m\u001b[0;34m\u001b[0m\u001b[0m\n\u001b[1;32m     13\u001b[0m         \u001b[0mplt\u001b[0m\u001b[0;34m.\u001b[0m\u001b[0mplot\u001b[0m\u001b[0;34m(\u001b[0m\u001b[0mbest_solutions\u001b[0m\u001b[0;34m,\u001b[0m \u001b[0mlabel\u001b[0m\u001b[0;34m=\u001b[0m\u001b[0mstr\u001b[0m\u001b[0;34m(\u001b[0m\u001b[0ma\u001b[0m\u001b[0;34m)\u001b[0m\u001b[0;34m)\u001b[0m\u001b[0;34m\u001b[0m\u001b[0m\n",
      "\u001b[0;31mNameError\u001b[0m: name 'plt' is not defined"
     ]
    }
   ],
   "source": [
    "for x in [1,2,3]:\n",
    "    for a in [0,1,3,5]:\n",
    "        antco  = ACO( Taskinitializer(x),\n",
    "                initializer,\n",
    "                SolutionGenerator(alpha=1,beta=a,num_of_ants=20,task = taskinitializer),\n",
    "                Evaporator(rho=0.5),\n",
    "                Intensificator(delta=1),\n",
    "            5,\n",
    "                printing=True)\n",
    "        best_solutions, scores, solutions=antco.run()\n",
    "        plt.title('Task ' +str(x)+ ', variable changed: beta')\n",
    "        plt.xlabel('Iterations')\n",
    "        plt.plot(best_solutions, label=str(a))\n",
    "    plt.legend()\n",
    "    plt.show()"
   ]
  },
  {
   "cell_type": "code",
   "execution_count": null,
   "metadata": {},
   "outputs": [],
   "source": [
    "Comparison of different alpha values"
   ]
  },
  {
   "cell_type": "code",
   "execution_count": null,
   "metadata": {},
   "outputs": [],
   "source": [
    "for x in [1,2,3]:\n",
    "    for a in [0,1,3,5]:\n",
    "        antco  = ACO( Taskinitializer(x),\n",
    "                initializer,\n",
    "                SolutionGenerator(alpha=a,beta=1,num_of_ants=20,task = taskinitializer),\n",
    "                Evaporator(rho=0.5),\n",
    "                Intensificator(delta=1),\n",
    "                5,\n",
    "                printing=True)\n",
    "        best_solutions, scores, solutions=antco.run()\n",
    "        plt.xlabel('Iterations')\n",
    "        plt.plot(best_solutions, label=str(a))\n",
    "        plt.title('Task ' +str(x)+ ', variable changed: alpha')\n",
    "    plt.legend()\n",
    "    plt.show()"
   ]
  }
 ],
 "metadata": {
  "kernelspec": {
   "display_name": "Python 3",
   "language": "python",
   "name": "python3"
  },
  "language_info": {
   "codemirror_mode": {
    "name": "ipython",
    "version": 3
   },
   "file_extension": ".py",
   "mimetype": "text/x-python",
   "name": "python",
   "nbconvert_exporter": "python",
   "pygments_lexer": "ipython3",
   "version": "3.5.2"
  }
 },
 "nbformat": 4,
 "nbformat_minor": 2
}
