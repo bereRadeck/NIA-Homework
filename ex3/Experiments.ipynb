{
 "cells": [
  {
   "cell_type": "code",
   "execution_count": 1,
   "metadata": {},
   "outputs": [],
   "source": [
    "from Initializer import Initializer\n",
    "from Taskinitializer import Taskinitializer\n",
    "from SolutionGenerator import SolutionGenerator\n",
    "from Evaporator import Evaporator\n",
    "from Intensificator import Intensificator\n",
    "from aco import ACO\n",
    "import numpy as np\n",
    "import matplotlib as mpl"
   ]
  },
  {
   "cell_type": "markdown",
   "metadata": {},
   "source": [
    "## Implemention 1\n",
    "distance heuristic with fixed parameters α = 1, β = 1\n"
   ]
  },
  {
   "cell_type": "code",
   "execution_count": 2,
   "metadata": {},
   "outputs": [],
   "source": [
    "taskinitializer = Taskinitializer(1)\n",
    "initializer = Initializer()\n",
    "solutiongenerator = SolutionGenerator(alpha=1,beta=1,num_of_ants=20,task = taskinitializer)\n",
    "evaporator = Evaporator(rho=0.5)\n",
    "intensificator = Intensificator(delta=1)"
   ]
  },
  {
   "cell_type": "code",
   "execution_count": 3,
   "metadata": {},
   "outputs": [
    {
     "name": "stdout",
     "output_type": "stream",
     "text": [
      "Interation:  0  best solution:  16671\n",
      "Interation:  1  best solution:  16795\n",
      "Interation:  2  best solution:  16922\n",
      "Interation:  3  best solution:  17164\n",
      "Interation:  4  best solution:  17174\n"
     ]
    }
   ],
   "source": [
    "antco = ACO(taskinitializer, initializer, solutiongenerator, evaporator, intensificator, 5, printing=True)\n",
    "solutions, scores, best_solutions = antco.run()"
   ]
  },
  {
   "cell_type": "code",
   "execution_count": null,
   "metadata": {},
   "outputs": [],
   "source": []
  }
 ],
 "metadata": {
  "kernelspec": {
   "display_name": "Python 3",
   "language": "python",
   "name": "python3"
  },
  "language_info": {
   "codemirror_mode": {
    "name": "ipython",
    "version": 3
   },
   "file_extension": ".py",
   "mimetype": "text/x-python",
   "name": "python",
   "nbconvert_exporter": "python",
   "pygments_lexer": "ipython3",
   "version": "3.5.2"
  }
 },
 "nbformat": 4,
 "nbformat_minor": 2
}
