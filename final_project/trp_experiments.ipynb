{
 "cells": [
  {
   "cell_type": "code",
   "execution_count": 1,
   "metadata": {},
   "outputs": [],
   "source": [
    "import numpy as np\n",
    "import matplotlib.pyplot as plt\n",
    "import seaborn as sns"
   ]
  },
  {
   "cell_type": "code",
   "execution_count": 2,
   "metadata": {},
   "outputs": [
    {
     "name": "stdout",
     "output_type": "stream",
     "text": [
      "Testing ACO, wtf are customers visited multiple times?\n",
      "12 [1 2 1 0]\n"
     ]
    },
    {
     "ename": "SyntaxError",
     "evalue": "'return' outside function (GA_Mutator.py, line 121)",
     "output_type": "error",
     "traceback": [
      "Traceback \u001b[0;36m(most recent call last)\u001b[0m:\n",
      "  File \u001b[1;32m\"/home/bradeck/.local/lib/python3.5/site-packages/IPython/core/interactiveshell.py\"\u001b[0m, line \u001b[1;32m3267\u001b[0m, in \u001b[1;35mrun_code\u001b[0m\n    exec(code_obj, self.user_global_ns, self.user_ns)\n",
      "  File \u001b[1;32m\"<ipython-input-2-a4e0c5a687cf>\"\u001b[0m, line \u001b[1;32m3\u001b[0m, in \u001b[1;35m<module>\u001b[0m\n    from GA_Main import GA\n",
      "\u001b[0;36m  File \u001b[0;32m\"/home/bradeck/Documents/uni/SS18/NIA/NIA-Homework/final_project/GA_Main.py\"\u001b[0;36m, line \u001b[0;32m2\u001b[0;36m, in \u001b[0;35m<module>\u001b[0;36m\u001b[0m\n\u001b[0;31m    import GA_Mutator\u001b[0m\n",
      "\u001b[0;36m  File \u001b[0;32m\"/home/bradeck/Documents/uni/SS18/NIA/NIA-Homework/final_project/GA_Mutator.py\"\u001b[0;36m, line \u001b[0;32m121\u001b[0m\n\u001b[0;31m    return population\u001b[0m\n\u001b[0m    ^\u001b[0m\n\u001b[0;31mSyntaxError\u001b[0m\u001b[0;31m:\u001b[0m 'return' outside function\n"
     ]
    }
   ],
   "source": [
    "from GA_Initializer import Initializer\n",
    "from GA_Selector import Selector_Tournament\n",
    "from GA_Main import GA\n",
    "#from GA_Recombiner import Recombiner\n",
    "#from GA_Mutator import Mutator\n",
    "#from GA_Main import GA"
   ]
  },
  {
   "cell_type": "markdown",
   "metadata": {},
   "source": [
    "class GA_Initializer:\n",
    "    def __init__(self, popsize, demands, capacities):\n",
    "        self.popsize = popsize\n",
    "        self.demands = demands\n",
    "        self.capacities = capacities\n",
    "    \n",
    "    def initialize():\n",
    "        return pop\n",
    "\n",
    "class GA_Recombiner:\n",
    "    def __init__(self, combine_probability=0.5)\n",
    "        self.combine_probability = combine_probability\n",
    "        \n",
    "    def recombine(pop):\n",
    "    \n",
    "        return off_spring\n",
    "        \n",
    "class GA_Mutator:\n",
    "    def __init__(self, mutate_probability=0.5):\n",
    "        self.mutate_probability = mutate_probability\n",
    "        \n",
    "    def mutate(off_spring):\n",
    "    \n",
    "        return mutated_offspring\n",
    "        \n",
    "        \n",
    "class Selector:\n",
    "    def __init__(self, trans_cost, dist_matrix):\n",
    "          self.trans_cost = trans_cost\n",
    "          self.dist_matrix = dist_matrix\n",
    "          \n",
    "    def select(mutated_offspring):\n",
    "          \n",
    "          return new_pop\n",
    "    "
   ]
  },
  {
   "cell_type": "code",
   "execution_count": 15,
   "metadata": {},
   "outputs": [
    {
     "ename": "NameError",
     "evalue": "name 'Partially_random_Initializer' is not defined",
     "output_type": "error",
     "traceback": [
      "\u001b[0;31m---------------------------------------------------------------------------\u001b[0m",
      "\u001b[0;31mNameError\u001b[0m                                 Traceback (most recent call last)",
      "\u001b[0;32m<ipython-input-15-86c60d070d70>\u001b[0m in \u001b[0;36m<module>\u001b[0;34m()\u001b[0m\n\u001b[1;32m      5\u001b[0m \u001b[0mmutate_prob\u001b[0m \u001b[0;34m=\u001b[0m \u001b[0;36m0.5\u001b[0m\u001b[0;34m\u001b[0m\u001b[0m\n\u001b[1;32m      6\u001b[0m \u001b[0;34m\u001b[0m\u001b[0m\n\u001b[0;32m----> 7\u001b[0;31m \u001b[0minitializer\u001b[0m \u001b[0;34m=\u001b[0m \u001b[0mPartially_random_Initializer\u001b[0m\u001b[0;34m(\u001b[0m\u001b[0mcapacities\u001b[0m\u001b[0;34m,\u001b[0m\u001b[0mdemands\u001b[0m\u001b[0;34m,\u001b[0m\u001b[0mpopsize\u001b[0m\u001b[0;34m)\u001b[0m\u001b[0;34m\u001b[0m\u001b[0m\n\u001b[0m\u001b[1;32m      8\u001b[0m \u001b[0mmutator\u001b[0m \u001b[0;34m=\u001b[0m  \u001b[0mMutator\u001b[0m\u001b[0;34m(\u001b[0m\u001b[0mmutate_prob\u001b[0m\u001b[0;34m)\u001b[0m\u001b[0;34m\u001b[0m\u001b[0m\n\u001b[1;32m      9\u001b[0m \u001b[0mrecombiner\u001b[0m \u001b[0;34m=\u001b[0m \u001b[0mRecombiner\u001b[0m\u001b[0;34m(\u001b[0m\u001b[0mrecombine_prob\u001b[0m\u001b[0;34m)\u001b[0m\u001b[0;34m\u001b[0m\u001b[0m\n",
      "\u001b[0;31mNameError\u001b[0m: name 'Partially_random_Initializer' is not defined"
     ]
    }
   ],
   "source": [
    "capacities = open('VRP1/VRP1/capacity.txt').read()\n",
    "demands = open('VRP1/VRP1/demand.txt').read()\n",
    "trans_cost = open('VRP1/VRP1/transportation_cost.txt').read()\n",
    "dist_matrix = open('VRP1/VRP1//distance.txt').read()\n",
    "mutate_prob = 0.5\n",
    "recombine_prob = 0.5\n",
    "\n",
    "initializer = Partially_random_Initializer(capacities,demands,popsize)\n",
    "mutator =  Mutator(mutate_prob)\n",
    "recombiner = Recombiner(recombine_prob)\n",
    "selector = Selector(tran_cost,dist_matrix)\n",
    "\n",
    "GA = GA(initializer,recombiner,mutator,selector)\n",
    "\n",
    "result = GA.run()"
   ]
  },
  {
   "cell_type": "code",
   "execution_count": null,
   "metadata": {},
   "outputs": [],
   "source": []
  }
 ],
 "metadata": {
  "kernelspec": {
   "display_name": "Python 3",
   "language": "python",
   "name": "python3"
  },
  "language_info": {
   "codemirror_mode": {
    "name": "ipython",
    "version": 3
   },
   "file_extension": ".py",
   "mimetype": "text/x-python",
   "name": "python",
   "nbconvert_exporter": "python",
   "pygments_lexer": "ipython3",
   "version": "3.6.7"
  }
 },
 "nbformat": 4,
 "nbformat_minor": 2
}
