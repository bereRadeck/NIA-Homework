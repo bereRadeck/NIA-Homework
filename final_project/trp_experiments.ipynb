{
 "cells": [
  {
   "cell_type": "code",
   "execution_count": 17,
   "metadata": {},
   "outputs": [],
   "source": [
    "\n",
    "import numpy as np\n",
    "import matplotlib.pyplot as plt\n",
    "import seaborn as sns"
   ]
  },
  {
   "cell_type": "code",
   "execution_count": null,
   "metadata": {},
   "outputs": [],
   "source": [
    "from GA_Initializer import Partially_random_Initializer\n",
    "from GA_Mutator import Mutator\n",
    "from GA_Recombiner import Recombiner\n",
    "from GA_Selector import Selector\n",
    "from GA_Main import GA"
   ]
  },
  {
   "cell_type": "code",
   "execution_count": 15,
   "metadata": {},
   "outputs": [
    {
     "ename": "NameError",
     "evalue": "name 'Partially_random_Initializer' is not defined",
     "output_type": "error",
     "traceback": [
      "\u001b[0;31m---------------------------------------------------------------------------\u001b[0m",
      "\u001b[0;31mNameError\u001b[0m                                 Traceback (most recent call last)",
      "\u001b[0;32m<ipython-input-15-86c60d070d70>\u001b[0m in \u001b[0;36m<module>\u001b[0;34m()\u001b[0m\n\u001b[1;32m      5\u001b[0m \u001b[0mmutate_prob\u001b[0m \u001b[0;34m=\u001b[0m \u001b[0;36m0.5\u001b[0m\u001b[0;34m\u001b[0m\u001b[0m\n\u001b[1;32m      6\u001b[0m \u001b[0;34m\u001b[0m\u001b[0m\n\u001b[0;32m----> 7\u001b[0;31m \u001b[0minitializer\u001b[0m \u001b[0;34m=\u001b[0m \u001b[0mPartially_random_Initializer\u001b[0m\u001b[0;34m(\u001b[0m\u001b[0mcapacities\u001b[0m\u001b[0;34m,\u001b[0m\u001b[0mdemands\u001b[0m\u001b[0;34m,\u001b[0m\u001b[0mpopsize\u001b[0m\u001b[0;34m)\u001b[0m\u001b[0;34m\u001b[0m\u001b[0m\n\u001b[0m\u001b[1;32m      8\u001b[0m \u001b[0mmutator\u001b[0m \u001b[0;34m=\u001b[0m  \u001b[0mMutator\u001b[0m\u001b[0;34m(\u001b[0m\u001b[0mmutate_prob\u001b[0m\u001b[0;34m)\u001b[0m\u001b[0;34m\u001b[0m\u001b[0m\n\u001b[1;32m      9\u001b[0m \u001b[0mrecombiner\u001b[0m \u001b[0;34m=\u001b[0m \u001b[0mRecombiner\u001b[0m\u001b[0;34m(\u001b[0m\u001b[0mrecombine_prob\u001b[0m\u001b[0;34m)\u001b[0m\u001b[0;34m\u001b[0m\u001b[0m\n",
      "\u001b[0;31mNameError\u001b[0m: name 'Partially_random_Initializer' is not defined"
     ]
    }
   ],
   "source": [
    "capacities = open('VRP1/VRP1/capacity.txt').read()\n",
    "demands = open('VRP1/VRP1/demand.txt').read()\n",
    "trans_cost = open('VRP1/VRP1/transportation_cost.txt').read()\n",
    "dist_matrix = open('VRP1/VRP1//distance.txt').read()\n",
    "mutate_prob = 0.5\n",
    "\n",
    "initializer = Partially_random_Initializer(capacities,demands,popsize)\n",
    "mutator =  Mutator(mutate_prob)\n",
    "recombiner = Recombiner(recombine_prob)\n",
    "selector = Selector(tran_cost,dist_matrix)\n",
    "\n",
    "GA = GA(initializer,recombiner,mutator,selector)\n",
    "\n",
    "result = GA.run()"
   ]
  },
  {
   "cell_type": "code",
   "execution_count": null,
   "metadata": {},
   "outputs": [],
   "source": []
  }
 ],
 "metadata": {
  "kernelspec": {
   "display_name": "Python 3",
   "language": "python",
   "name": "python3"
  },
  "language_info": {
   "codemirror_mode": {
    "name": "ipython",
    "version": 3
   },
   "file_extension": ".py",
   "mimetype": "text/x-python",
   "name": "python",
   "nbconvert_exporter": "python",
   "pygments_lexer": "ipython3",
   "version": "3.6.5"
  }
 },
 "nbformat": 4,
 "nbformat_minor": 2
}
