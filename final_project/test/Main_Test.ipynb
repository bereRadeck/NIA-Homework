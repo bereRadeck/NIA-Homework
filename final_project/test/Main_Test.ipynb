{
 "cells": [
  {
   "cell_type": "code",
   "execution_count": null,
   "metadata": {
    "collapsed": true
   },
   "outputs": [],
   "source": [
    "@matplotlib inline \n",
    "from GA_Main import *\n",
    "\n",
    "from GA_Taskinitializer import *\n",
    "from GA_Initializer import *\n",
    "from GA_Evaluator import *\n",
    "from GA_Selector import *\n",
    "from GA_Recombiner import *\n",
    "from GA_Mutator import *\n",
    "from GA_Replacer import *\n",
    "from GA_Terminator import *\n",
    "from ACO_Main import ACO\n",
    "\n",
    "from ACO_Initializer import ACO_Initializer\n",
    "from ACO_SolutionGenerator import SolutionGenerator\n",
    "from ACO_Evaporator import Evaporator\n",
    "from ACO_Intensificator import Intensificator\n",
    "\n",
    "aco_initializer = ACO_Initializer()\n",
    "aco_solutiongenerator = SolutionGenerator()\n",
    "aco_evaporator = Evaporator()\n",
    "aco_intensificator = Intensificator()\n",
    "\n",
    "\n",
    "from GA_Taskinitializer import *\n",
    "import matplotlib.pyplot as plt\n",
    "import os\n",
    "\n",
    "PATH_HOME = os.sep.join(os.getcwd().split(os.sep)[:-1])\n",
    "PATH_PROBLEM = os.sep.join(['Problem','VRP1'])\n",
    "PATH = os.sep.join([PATH_HOME,PATH_PROBLEM])\n",
    "task_initializer = Taskinitializer()\n",
    "dist_matrix, capacities, trans_cost, demands = task_initializer.initialize_task(PATH)\n",
    "\n",
    "task_initializer = Taskinitializer()\n",
    "\n",
    "\n",
    "\n"
   ]
  },
  {
   "cell_type": "code",
   "execution_count": null,
   "metadata": {
    "collapsed": true
   },
   "outputs": [],
   "source": [
    "def drawrecords(record_best,record_worst,record_mean):\n",
    "    record_best = ga.record_best\n",
    "    record_worst = ga.record_worst\n",
    "    record_mean = ga.record_mean\n",
    "    plt.figure(figsize=(20,20))\n",
    "    plt.plot(record_best, \"b\")\n",
    "    plt.plot(record_worst, \"r\")\n",
    "    plt.fill_between(record_best,record_worst,color=\"c\")\n",
    "    plt.plot(record_mean, \"g\")"
   ]
  },
  {
   "cell_type": "code",
   "execution_count": null,
   "metadata": {
    "collapsed": true
   },
   "outputs": [],
   "source": [
    "\n",
    "popsize = 200\n",
    "aco_iterations = 5\n",
    "mutate_probability = 0.1\n",
    "\n",
    "aco = ACO(dist_matrix,aco_initializer,aco_solutiongenerator,aco_evaporator,aco_intensificator,aco_iterations,True)\n",
    "\n",
    "initializer = PartiallyRandomInitializer(popsize,demands,capacities,aco)\n",
    "evaluator = Evaluator(trans_cost,dist_matrix,aco)\n",
    "selector = Roulette_Selector(offspring_size= 50)\n",
    "recombiner = Ordered_Recombiner(initializer.capacities)\n",
    "mutator = Mutator(initializer.capacities)\n",
    "replacer = Replacer()\n",
    "terminator = Terminator(limit = 50)\n",
    "n = 2\n",
    "\n",
    "\n",
    "ga = GA(initializer, evaluator, selector, recombiner, mutator, replacer, terminator, aco, n)\n",
    "ga.run()\n",
    "\n",
    "drawrecords(record_best,record_worst,record_mean)"
   ]
  }
 ],
 "metadata": {
  "kernelspec": {
   "display_name": "Python 3",
   "language": "python",
   "name": "python3"
  },
  "language_info": {
   "codemirror_mode": {
    "name": "ipython",
    "version": 3
   },
   "file_extension": ".py",
   "mimetype": "text/x-python",
   "name": "python",
   "nbconvert_exporter": "python",
   "pygments_lexer": "ipython3",
   "version": "3.6.3"
  }
 },
 "nbformat": 4,
 "nbformat_minor": 2
}
